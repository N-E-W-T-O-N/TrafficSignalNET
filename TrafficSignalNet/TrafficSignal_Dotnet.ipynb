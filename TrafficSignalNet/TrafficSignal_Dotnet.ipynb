{
 "cells": [
  {
   "cell_type": "markdown",
   "id": "8efebc01-6a1d-470b-a6d6-8c98f2bcc828",
   "metadata": {},
   "source": [
    "# Using Dotnet Interactive Feature to run .NET code in Jupyter Notebook\n",
    "\n",
    "<img src=\"https://ms-dotnettools.gallerycdn.vsassets.io/extensions/ms-dotnettools/dotnet-interactive-vscode/1.0.5565011/1731690631035/Microsoft.VisualStudio.Services.Icons.Default\" alt=\"image\" width=\"50\"/>"
   ]
  },
  {
   "cell_type": "markdown",
   "id": "25e00f12",
   "metadata": {},
   "source": [
    "Polyglot Notebook is a feature of the .NET Interactive ecosystem. It allows you to work interactively with multiple programming languages (like Python, C#, F#, JavaScript, SQL, etc.) within the same notebook environment. This is particularly useful for scenarios that require multi-language workflows, such as data analysis, machine learning, and integrating diverse systems.\n",
    "\n",
    "For more Context [PolyGLot](https://github.com/dotnet/interactive/blob/main/docs/NotebookswithJupyter.md)"
   ]
  },
  {
   "cell_type": "markdown",
   "id": "81b7ff03",
   "metadata": {
    "dotnet_interactive": {
     "language": "csharp"
    },
    "polyglot_notebook": {
     "kernelName": "csharp"
    },
    "vscode": {
     "languageId": "polyglot-notebook"
    }
   },
   "source": [
    "First Download The Required Nuget Package"
   ]
  },
  {
   "cell_type": "code",
   "execution_count": null,
   "id": "5049cf5b",
   "metadata": {
    "dotnet_interactive": {
     "language": "csharp"
    },
    "polyglot_notebook": {
     "kernelName": "csharp"
    },
    "vscode": {
     "languageId": "polyglot-notebook"
    }
   },
   "outputs": [
    {
     "data": {
      "text/html": [
       "<div><div></div><div></div><div><strong>Installed Packages</strong><ul><li><span>CsvHelper, 33.0.1</span></li><li><span>MoreLinq, 4.3.0</span></li><li><span>TensorFlow.Keras, 0.15.0</span></li><li><span>TensorFlow.NET, 0.150.0</span></li></ul></div></div>"
      ]
     },
     "metadata": {},
     "output_type": "display_data"
    }
   ],
   "source": [
    "#r \"nuget: CsvHelper,33.0.1\"\n",
    "#r \"nuget: MoreLinq,4.3.0\"\n",
    "#r \"nuget: TensorFlow.NET, 0.150.0\"\n",
    "#r \"nuget: TensorFlow.Keras, 0.15.0\""
   ]
  },
  {
   "cell_type": "markdown",
   "id": "8caec0e1",
   "metadata": {},
   "source": [
    "The second part is the computing support part. Only one of the following packages is needed, depending on your device and system."
   ]
  },
  {
   "cell_type": "code",
   "execution_count": 2,
   "id": "a0080110",
   "metadata": {
    "dotnet_interactive": {
     "language": "csharp"
    },
    "polyglot_notebook": {
     "kernelName": "csharp"
    },
    "vscode": {
     "languageId": "polyglot-notebook"
    }
   },
   "outputs": [
    {
     "data": {
      "text/html": [
       "<div><div></div><div></div><div><strong>Installed Packages</strong><ul><li><span>SciSharp.TensorFlow.Redist, 2.16.0</span></li></ul></div></div>"
      ]
     },
     "metadata": {},
     "output_type": "display_data"
    }
   ],
   "source": [
    "\n",
    "//CPU version for Windows and Linux\n",
    "#r \"nuget: SciSharp.TensorFlow.Redist,2.16.0\"\n",
    "\n",
    "// CPU version for MacOS\n",
    "//#r \"nuget: SciSharp.TensorFlow.Redist-OSX, 2.15.0\"\n",
    "\n",
    "// GPU version for Windows (CUDA and cuDNN are required)\n",
    "//#r \"nuget: SciSharp.TensorFlow.Redist-Windows-GPU, 2.10.3\"\n",
    "\n",
    "// GPU version for Linux (CUDA and cuDNN are required)\n",
    "//#r \"nuget: SciSharp.TensorFlow.Redist-Linux-GPU, 2.11.1\""
   ]
  },
  {
   "cell_type": "code",
   "execution_count": 28,
   "id": "f5d758ff",
   "metadata": {
    "dotnet_interactive": {
     "language": "csharp"
    },
    "polyglot_notebook": {
     "kernelName": "csharp"
    },
    "vscode": {
     "languageId": "polyglot-notebook"
    }
   },
   "outputs": [],
   "source": [
    "// Global Parameter \n",
    "const int imgH = 32 ; \n",
    "const int imgW = 32 ;\n",
    "const int nChannels = 3 ;"
   ]
  },
  {
   "cell_type": "code",
   "execution_count": 11,
   "id": "7e8cc9c7",
   "metadata": {
    "dotnet_interactive": {
     "language": "csharp"
    },
    "polyglot_notebook": {
     "kernelName": "csharp"
    },
    "vscode": {
     "languageId": "polyglot-notebook"
    }
   },
   "outputs": [],
   "source": [
    "using System;\n",
    "using System.IO;"
   ]
  },
  {
   "cell_type": "code",
   "execution_count": 16,
   "id": "d3ae255c-e0ca-47fe-9b90-326a213cff26",
   "metadata": {
    "dotnet_interactive": {
     "language": "csharp"
    },
    "polyglot_notebook": {
     "kernelName": "csharp"
    },
    "vscode": {
     "languageId": "polyglot-notebook"
    }
   },
   "outputs": [
    {
     "name": "stdout",
     "output_type": "stream",
     "text": [
      "c:\\Users\\NewtonMallick\\Code\\TrafficSignalNet\\TrafficSignalNet\r\n"
     ]
    }
   ],
   "source": [
    "Console.WriteLine(Directory.GetCurrentDirectory());"
   ]
  },
  {
   "cell_type": "code",
   "execution_count": 17,
   "id": "7a5cdea3",
   "metadata": {
    "dotnet_interactive": {
     "language": "csharp"
    },
    "polyglot_notebook": {
     "kernelName": "csharp"
    },
    "vscode": {
     "languageId": "polyglot-notebook"
    }
   },
   "outputs": [],
   "source": [
    "string basePath = Path.Combine(Directory.GetCurrentDirectory(), \"Data\");\n"
   ]
  },
  {
   "cell_type": "code",
   "execution_count": 8,
   "id": "45f52a1d-0f6f-4d2e-9d24-eee97d4c1ce1",
   "metadata": {
    "dotnet_interactive": {
     "language": "csharp"
    },
    "polyglot_notebook": {
     "kernelName": "csharp"
    },
    "vscode": {
     "languageId": "polyglot-notebook"
    }
   },
   "outputs": [],
   "source": [
    "using CsvHelper;\n",
    "using MoreLinq.Extensions;\n",
    "using System.Globalization;\n",
    "using Tensorflow;\n",
    "using Tensorflow.IO;\n",
    "using Tensorflow.Keras.Engine;\n",
    "using Tensorflow.Keras.Layers;\n",
    "using Tensorflow.NumPy;\n",
    "using static Tensorflow.Binding;"
   ]
  },
  {
   "cell_type": "code",
   "execution_count": null,
   "id": "208d6845",
   "metadata": {
    "dotnet_interactive": {
     "language": "csharp"
    },
    "polyglot_notebook": {
     "kernelName": "csharp"
    },
    "vscode": {
     "languageId": "polyglot-notebook"
    }
   },
   "outputs": [],
   "source": []
  },
  {
   "cell_type": "code",
   "execution_count": 42,
   "id": "93406e6d",
   "metadata": {
    "dotnet_interactive": {
     "language": "csharp"
    },
    "polyglot_notebook": {
     "kernelName": "csharp"
    },
    "vscode": {
     "languageId": "polyglot-notebook"
    }
   },
   "outputs": [
    {
     "data": {
      "text/html": [
       "<div><div></div><div></div><div><strong>Installed Packages</strong><ul><li><span>Plotly.NET.Interactive, 5.0.0</span></li></ul></div></div>"
      ]
     },
     "metadata": {},
     "output_type": "display_data"
    }
   ],
   "source": [
    "#r \"nuget: Plotly.NET.Interactive, 5.0.0\"\n",
    "\n",
    "using static Microsoft.DotNet.Interactive.Formatting.PocketViewTags;\n",
    "using Plotly.NET;\n",
    "using Plotly.NET.LayoutObjects;"
   ]
  },
  {
   "cell_type": "code",
   "execution_count": 45,
   "id": "a63bfa4e",
   "metadata": {
    "dotnet_interactive": {
     "language": "csharp"
    },
    "polyglot_notebook": {
     "kernelName": "csharp"
    },
    "vscode": {
     "languageId": "polyglot-notebook"
    }
   },
   "outputs": [
    {
     "name": "stdout",
     "output_type": "stream",
     "text": [
      "c:\\Users\\NewtonMallick\\Code\\TrafficSignalNet\\TrafficSignalNet\\Data\\Meta\n",
      "c:\\Users\\NewtonMallick\\Code\\TrafficSignalNet\\TrafficSignalNet\\Data\\Test\n",
      "c:\\Users\\NewtonMallick\\Code\\TrafficSignalNet\\TrafficSignalNet\\Data\\Train\n"
     ]
    }
   ],
   "source": [
    "var result = Directory.GetDirectories(basePath);\n",
    "foreach (var x in result)\n",
    "{\n",
    "    Console.WriteLine(x);\n",
    "}"
   ]
  },
  {
   "cell_type": "code",
   "execution_count": 9,
   "id": "d14777e4",
   "metadata": {
    "vscode": {
     "languageId": "polyglot-notebook"
    }
   },
   "outputs": [],
   "source": [
    "public sealed class DataRowMap : CsvHelper.Configuration.ClassMap<DataRow>\n",
    "{\n",
    "    // Only Required ClassId & Path\n",
    "    public DataRowMap()\n",
    "    {\n",
    "        //Map(m => m.Width).Name(\"Width\");\n",
    "        //Map(m => m.Height).Name(\"Height\");\n",
    "        //Map(m => m.RoiX1).Name(\"Roi.X1\");\n",
    "        //Map(m => m.RoiY1).Name(\"Roi.Y1\");\n",
    "        //Map(m => m.RoiX2).Name(\"Roi.X2\");\n",
    "        //Map(m => m.RoiY2).Name(\"Roi.Y2\");\n",
    "        Map(m => m.ClassId).Name(\"ClassId\");\n",
    "        Map(m => m.Path).Name(\"Path\");\n",
    "    }\n",
    "}\n",
    "\n",
    "public class DataRow\n",
    "{\n",
    "    //public int Width { get; set; }\n",
    "    //public int Height { get; set; }\n",
    "    //public int RoiX1 { get; set; }\n",
    "    //public int RoiY1 { get; set; }\n",
    "    //public int RoiX2 { get; set; }\n",
    "    //public int RoiY2 { get; set; }\n",
    "    public int ClassId { get; set; }\n",
    "    public string Path { get; set; }\n",
    "}\n"
   ]
  },
  {
   "cell_type": "code",
   "execution_count": 12,
   "id": "dc770b14",
   "metadata": {
    "dotnet_interactive": {
     "language": "csharp"
    },
    "polyglot_notebook": {
     "kernelName": "csharp"
    },
    "vscode": {
     "languageId": "polyglot-notebook"
    }
   },
   "outputs": [],
   "source": [
    "\n",
    "    void LoadImage(string[] a, NDArray b, string process)\n",
    "    {\n",
    "\n",
    "        Parallel.For(0, a.Length, (i) =>\n",
    "        {\n",
    "            try\n",
    "            {\n",
    "                var graph = tf.Graph().as_default();\n",
    "                b[i] = ReadTensorFromImageFile(a[i], graph);\n",
    "                Console.WriteLine($\"Loading image: {i} {a[i]}...\");\n",
    "                Console.CursorLeft = 0;\n",
    "                graph.Exit();\n",
    "            }\n",
    "            catch(Exception ex) { Console.WriteLine(ex.Message);}\n",
    "        });\n",
    "\n",
    "        Console.WriteLine();\n",
    "        Console.WriteLine($\"Loaded {a.Length} images for \" + process);\n",
    "    }\n",
    "\n",
    "    private NDArray ReadTensorFromImageFile(string fileName, Graph graph)\n",
    "    {\n",
    "        var fileReader = tf.io.read_file(fileName, \"file_reader\");\n",
    "        var decodeImage = tf.image.decode_jpeg(fileReader, channels: 3, name: \"DecodeJpeg\");\n",
    "        //var decodeImage = tf.image.decode_image(fileReader, channels: 3, name: \"DecodeImage\");\n",
    "        // Change Format to Float32 bit\n",
    "        var cast = tf.cast(decodeImage, tf.float32,\"cast\");\n",
    "        // Not Required\n",
    "        //resize required one extra dims\n",
    "        var dims_expander = tf.expand_dims(cast, 0);\n",
    "\n",
    "        var resize = tf.constant(new int[] { 32, 32 }, name: \"resize\");\n",
    "\n",
    "        var bilinear = tf.image.resize_bilinear(dims_expander, resize);//(dims_expander, resize);\n",
    "        var sub = tf.subtract(bilinear, new float[] { 0 });\n",
    "        var normalized = tf.divide(sub, new float[] { 255 });\n",
    "\n",
    "        var sess = tf.Session(graph);\n",
    "        return sess.run(normalized);\n",
    "\n",
    "    }\n",
    "\n",
    "\n",
    "\n",
    "\n",
    "    List<DataRow> ReadCsv(string path)\n",
    "    {\n",
    "       \n",
    "        using var reader = new StreamReader(path);\n",
    "        using var csv = new CsvReader(reader, CultureInfo.InvariantCulture);\n",
    "        //csv.Context.RegisterClassMap<DataRowMap>();\n",
    "        return [..csv.GetRecords<DataRow>().Shuffle()]; ;\n",
    "    }\n",
    "\n",
    "   void CreateImage(Dictionary<string, List<float>> history, string path)\n",
    "    {\n",
    "\n",
    "        foreach (var (name,data) in history)\n",
    "        {\n",
    "\n",
    "        }\n",
    "    }\n",
    "\n",
    "\n"
   ]
  },
  {
   "cell_type": "code",
   "execution_count": null,
   "id": "7798d638",
   "metadata": {
    "dotnet_interactive": {
     "language": "csharp"
    },
    "polyglot_notebook": {
     "kernelName": "csharp"
    },
    "vscode": {
     "languageId": "polyglot-notebook"
    }
   },
   "outputs": [
    {
     "ename": "Error",
     "evalue": "(1,1): error CS7036: There is no argument given that corresponds to the required parameter 'fileName' of 'ReadTensorFromImageFile(string, Graph)'",
     "output_type": "error",
     "traceback": [
      "(1,1): error CS7036: There is no argument given that corresponds to the required parameter 'fileName' of 'ReadTensorFromImageFile(string, Graph)'"
     ]
    }
   ],
   "source": []
  },
  {
   "cell_type": "code",
   "execution_count": null,
   "id": "9c9474ff",
   "metadata": {
    "dotnet_interactive": {
     "language": "csharp"
    },
    "polyglot_notebook": {
     "kernelName": "csharp"
    },
    "vscode": {
     "languageId": "polyglot-notebook"
    }
   },
   "outputs": [
    {
     "name": "stdout",
     "output_type": "stream",
     "text": [
      "39209"
     ]
    }
   ],
   "source": []
  },
  {
   "cell_type": "code",
   "execution_count": 22,
   "id": "bf9d3960",
   "metadata": {
    "dotnet_interactive": {
     "language": "csharp"
    },
    "polyglot_notebook": {
     "kernelName": "csharp"
    },
    "vscode": {
     "languageId": "polyglot-notebook"
    }
   },
   "outputs": [],
   "source": [
    "\n",
    "public class TrafficSignal\n",
    "{\n",
    "    private ILayersApi layers = tf.keras.layers;\n",
    "\n",
    "    private IModel model { get; set; }\n",
    "\n",
    "    \n",
    "\n",
    "    public void BuildModel(int height, int width, int depth, int classNumber)\n",
    "    {\n",
    "        // Check the Diff in GlobalAveragePooling2D() & AveragePooling2D()\n",
    "        // input layer\n",
    "        //keras.Sequential()\n",
    "        var inputs = layers.Input(shape: (height, width, depth), name: \"img\");  //(32, 32, 3), name: \"img\");\n",
    "\n",
    "        // convolutional layer\n",
    "        var x = layers.Conv2D(8, (5, 5), padding: \"same\", activation: \"relu\").Apply(inputs);\n",
    "        x = layers.BatchNormalization().Apply(x);\n",
    "        x = layers.MaxPooling2D(pool_size: (2, 2)).Apply(x);\n",
    "\n",
    "        x = layers.Conv2D(16, kernel_size: (3, 3), activation: \"relu\", padding: \"same\").Apply(x);\n",
    "        x = layers.BatchNormalization().Apply(x);\n",
    "\n",
    "        x = layers.Conv2D(16, kernel_size: (3, 3), activation: \"relu\", padding: \"same\").Apply(x);\n",
    "        x = layers.BatchNormalization().Apply(x);\n",
    "        x = layers.MaxPooling2D(pool_size: (2, 2)).Apply(x);\n",
    "\n",
    "        x = layers.Conv2D(32, kernel_size: (3, 3), activation: \"relu\", padding: \"same\").Apply(x);\n",
    "        x = layers.BatchNormalization().Apply(x);\n",
    "\n",
    "        x = layers.Conv2D(32, kernel_size: (3, 3), activation: \"relu\", padding: \"same\").Apply(x);\n",
    "        x = layers.BatchNormalization().Apply(x);\n",
    "        x = layers.MaxPooling2D(pool_size: (2, 2)).Apply(x);\n",
    "\n",
    "        x = layers.Flatten().Apply(x);\n",
    "        x = layers.Dense(128, activation: \"relu\").Apply(x);\n",
    "        x = layers.BatchNormalization().Apply(x);\n",
    "        x = layers.Dropout(0.5f).Apply(x);\n",
    "\n",
    "        x = layers.Flatten().Apply(x);\n",
    "        x = layers.Dense(128, activation: \"relu\").Apply(x);\n",
    "        x = layers.BatchNormalization().Apply(x);\n",
    "        x = layers.Dropout(0.5f).Apply(x);\n",
    "\n",
    "        // output layer\n",
    "        var outputs = layers.Dense(classNumber, \"softmax\").Apply(x);\n",
    "        // build keras model\n",
    "        model = tf.keras.Model(inputs, outputs, name: \"traffic_resnet\");\n",
    "    }\n",
    "\n",
    "    public ICallback Train(NDArray xTrain, NDArray yTrain,Dictionary<int,float> classWeight=null)\n",
    "    {\n",
    "        // training\n",
    "        //model.fit(xTrain[new Slice(0, 2000)], yTrain[new Slice(0, 2000)],\n",
    "        return model!.fit(xTrain, yTrain,\n",
    "        batch_size: 64,\n",
    "            epochs: 10,\n",
    "            validation_split: 0.2f,\n",
    "            class_weight: classWeight);\n",
    "    }\n",
    "    public void Summary()\n",
    "    {\n",
    "        if (model is null)\n",
    "            throw new NullReferenceException(\"First call `BuildModel` Method to INITIALIZED the model object\");\n",
    "        model.summary();\n",
    "    }\n",
    "\n",
    "    public void Compile()\n",
    "    {\n",
    "        model!.compile(optimizer: tf.keras.optimizers.RMSprop(1e-3f),\n",
    "            loss: tf.keras.losses.CategoricalCrossentropy(from_logits:false), // SparseCategoricalCrossentropy(from_logits: true),\n",
    "            metrics: [tf.keras.metrics.CategoricalAccuracy(), tf.keras.metrics.CategoricalCrossentropy()]); //new[] { \"acc\" }); // //\n",
    "    }\n",
    "    //metrics_utils\n",
    "\n",
    "    public void Save(string filePath) //\"./toy_resnet_model\"\n",
    "    {\n",
    "        // save the model\n",
    "        model!.save(filePath);\n",
    "        \n",
    "    }\n",
    "\n",
    "    public Tensor Predict(Tensor value,int verbose =0)\n",
    "    {\n",
    "        // var c = confusion_matrix;\n",
    "        var result = model.predict(value, verbose: verbose);\n",
    "        return tf.arg_max(result, 1);\n",
    "    }\n",
    "}\n",
    "\n"
   ]
  },
  {
   "cell_type": "code",
   "execution_count": null,
   "id": "08b0b2e4",
   "metadata": {
    "dotnet_interactive": {
     "language": "csharp"
    },
    "polyglot_notebook": {
     "kernelName": "csharp"
    },
    "vscode": {
     "languageId": "polyglot-notebook"
    }
   },
   "outputs": [],
   "source": [
    "List<DataRow> records = ReadCsv(path: Path.Join(basePath, \"Train.csv\"));\n",
    "Console.Write(records.Count())"
   ]
  },
  {
   "cell_type": "code",
   "execution_count": 25,
   "id": "5f475139",
   "metadata": {
    "dotnet_interactive": {
     "language": "csharp"
    },
    "polyglot_notebook": {
     "kernelName": "csharp"
    },
    "vscode": {
     "languageId": "polyglot-notebook"
    }
   },
   "outputs": [
    {
     "name": "stdout",
     "output_type": "stream",
     "text": [
      "[INFO] processed 0 total images\n",
      "[INFO] processed 10000 total images\n",
      "[INFO] processed 20000 total images\n",
      "[INFO] processed 30000 total images\n"
     ]
    }
   ],
   "source": [
    "\n",
    "\n",
    "// 39209\n",
    "List<int> yLabels = [];\n",
    "List<string> xImagePath = [];\n",
    "\n",
    "foreach (var (index, row) in records.Select((row, index) => (index, row)))\n",
    "{\n",
    "    if (index % 10000 == 0)\n",
    "    {\n",
    "        Console.WriteLine($\"[INFO] processed {index} total images\");\n",
    "    }\n",
    "\n",
    "    //var (label, imagePath) = (row.ClassId, row.Path);\n",
    "\n",
    "    yLabels.add(row.ClassId);\n",
    "    xImagePath.add(Path.Combine(basePath, row.Path));\n",
    "\n",
    "    //imagePath = Path.Combine(BasePath, imagePath);\n",
    "\n",
    "    //NDArray a = np.array<int>(xLabels.ToArray());\n",
    "}\n"
   ]
  },
  {
   "cell_type": "code",
   "execution_count": 26,
   "id": "1424a5b8",
   "metadata": {
    "dotnet_interactive": {
     "language": "csharp"
    },
    "polyglot_notebook": {
     "kernelName": "csharp"
    },
    "vscode": {
     "languageId": "polyglot-notebook"
    }
   },
   "outputs": [],
   "source": [
    "\n",
    "int[] uniqueLabels = yLabels.Distinct().ToArray();\n",
    "int classCount = uniqueLabels.Count();\n",
    "int totalCount = yLabels.Count();\n"
   ]
  },
  {
   "cell_type": "code",
   "execution_count": 27,
   "id": "46ace430",
   "metadata": {
    "vscode": {
     "languageId": "polyglot-notebook"
    }
   },
   "outputs": [],
   "source": [
    "Dictionary<int,float> classWeight = yLabels.GroupBy(x => x)\n",
    "    .Select(g => new { Index = g.Key, Count = g.Count() })\n",
    "    .OrderBy(x=>x.Index)\n",
    "    .ToDictionary(x => x.Index, x =>  totalCount/ (float)(classCount*x.Count));\n",
    "//.ToDictionary(x => x.Index, x => x.Count/ (float)totalCount );\n"
   ]
  },
  {
   "cell_type": "code",
   "execution_count": null,
   "id": "26171376",
   "metadata": {
    "vscode": {
     "languageId": "polyglot-notebook"
    }
   },
   "outputs": [
    {
     "ename": "Error",
     "evalue": "(13,39): error CS0103: The name 'img_h' does not exist in the current context\r\n(13,46): error CS0103: The name 'img_w' does not exist in the current context\r\n(13,53): error CS0103: The name 'Global' does not exist in the current context\r\n(59,12): error CS0103: The name 'JsonConvert' does not exist in the current context\r\n(86,44): error CS0103: The name 'img_h' does not exist in the current context\r\n(86,51): error CS0103: The name 'img_w' does not exist in the current context\r\n(86,58): error CS0103: The name 'n_channels' does not exist in the current context\r\n(129,9): error CS0103: The name 'JsonConvert' does not exist in the current context\r\n(41,1): error CS0103: The name 'r' does not exist in the current context\r\n(45,15): error CS0103: The name 'Global' does not exist in the current context\r\n(45,29): error CS0103: The name 'Global' does not exist in the current context\r\n(45,43): error CS0103: The name 'Global' does not exist in the current context\r\n(61,1): error CS0103: The name 'r' does not exist in the current context\r\n(61,46): error CS0103: The name 'BasePath' does not exist in the current context\r\n(68,11): error CS0103: The name 'r' does not exist in the current context\r\n(68,40): error CS0103: The name 'BasePath' does not exist in the current context\r\n(76,36): error CS0103: The name 'BasePath' does not exist in the current context",
     "output_type": "error",
     "traceback": [
      "(13,39): error CS0103: The name 'img_h' does not exist in the current context\r\n",
      "(13,46): error CS0103: The name 'img_w' does not exist in the current context\r\n",
      "(13,53): error CS0103: The name 'Global' does not exist in the current context\r\n",
      "(59,12): error CS0103: The name 'JsonConvert' does not exist in the current context\r\n",
      "(86,44): error CS0103: The name 'img_h' does not exist in the current context\r\n",
      "(86,51): error CS0103: The name 'img_w' does not exist in the current context\r\n",
      "(86,58): error CS0103: The name 'n_channels' does not exist in the current context\r\n",
      "(129,9): error CS0103: The name 'JsonConvert' does not exist in the current context\r\n",
      "(41,1): error CS0103: The name 'r' does not exist in the current context\r\n",
      "(45,15): error CS0103: The name 'Global' does not exist in the current context\r\n",
      "(45,29): error CS0103: The name 'Global' does not exist in the current context\r\n",
      "(45,43): error CS0103: The name 'Global' does not exist in the current context\r\n",
      "(61,1): error CS0103: The name 'r' does not exist in the current context\r\n",
      "(61,46): error CS0103: The name 'BasePath' does not exist in the current context\r\n",
      "(68,11): error CS0103: The name 'r' does not exist in the current context\r\n",
      "(68,40): error CS0103: The name 'BasePath' does not exist in the current context\r\n",
      "(76,36): error CS0103: The name 'BasePath' does not exist in the current context"
     ]
    }
   ],
   "source": [
    "\n",
    "Console.WriteLine(\"ClassWeight\");\n",
    "float total = 0f;\n",
    "foreach (var (key, value) in classWeight)\n",
    "{\n",
    "    Console.WriteLine($\"|    {key}  |   {value}\");\n",
    "    total += value;\n",
    "}\n",
    "Console.WriteLine($\"|   TOTAL    | {total}\");\n",
    "\n",
    "//Create Empty\n",
    "// TF message comming from here\n",
    "var xTrain = np.zeros((records.Count, img_h, img_w, Global.n_channels), dtype: tf.float32); // TotalRecords * Height * width * Channel\n",
    "//var yTrain = tf.one_hot(np.array(xLabels.ToArray(),dtype:tf.int64), depth: classCount);\n",
    "var yTrain = np.eye(classCount, dtype: tf.float32)[np.array(yLabels.ToArray(), tf.float32).reshape(-1)];\n",
    "// Encode label to a one hot vector.\n",
    "\n",
    "//var indexArray = np.array(xLabels.ToArray());  // N * xLabels.Total\n",
    "\n",
    "//var one = yTrain[indexArray];\n",
    "\n",
    "//indexArray = indexArray.reshape(-1);\n",
    "\n",
    "//var one_hot_targets = np.eye(uniqueLabels.Length)[indexArray];\n",
    "//var sh = one_hot_targets.shape;\n",
    "//Load labels\n",
    "\n",
    "//Util.ToCategorical(y_train, num_classes);\n",
    "print(\"Load Labels To NDArray : OK!\");\n",
    "int i = 0;\n",
    "// TO Check the Value \n",
    "foreach (var val in yTrain[0])\n",
    "{\n",
    "    Console.Write($\"{val} \");\n",
    "    i++;\n",
    "}\n",
    "\n",
    "Console.WriteLine(yTrain[0].shape);\n",
    "\n",
    "\n",
    "r.LoadImage(xImagePath.ToArray(), xTrain, \"Training\");\n",
    "\n",
    "TrafficSignal ts = new TrafficSignal();\n",
    "\n",
    "ts.BuildModel(Global.img_h, Global.img_w, Global.n_channels, classCount);\n",
    "\n",
    "ts.Compile();\n",
    "\n",
    "var startTime = DateTime.Now;\n",
    "var history = ts.Train(xTrain, yTrain, classWeight);\n",
    "var endTime = DateTime.Now;\n",
    "var diff = endTime - startTime;\n",
    "Console.WriteLine($\"Execution Time {diff.Minutes} {diff.Seconds} {diff.Milliseconds}\");\n",
    "\n",
    "ts.Summary();\n",
    "ts.Save(\"./Model\");\n",
    "\n",
    "\n",
    "var hist = JsonConvert.SerializeObject(history.history);\n",
    "File.WriteAllText(\"History.json\",hist);\n",
    "r.CreateImage(history.history,path:Path.Join(BasePath,\"..\",\"ModelResult.jpg\"));\n",
    "\n"
   ]
  },
  {
   "cell_type": "code",
   "execution_count": null,
   "id": "990a3c90",
   "metadata": {
    "vscode": {
     "languageId": "polyglot-notebook"
    }
   },
   "outputs": [],
   "source": [
    "\n",
    "/* NOW TEST THE MODEL*/\n",
    "\n",
    "//FilePath = Path.Combine(BasePath, \"Test\");\n",
    "\n",
    "records = r.ReadCsv(path: Path.Combine(BasePath ,\"Test.csv\"));\n",
    "\n",
    "List<string> testImagePath =new();\n",
    "List<int> textXLabels = new();\n",
    "\n",
    "foreach (var row in records)\n",
    "{\n",
    "    //yTest.add(row.ClassId);\n",
    "    testImagePath.add(Path.Combine(BasePath, row.Path));\n",
    "    textXLabels.add(row.ClassId);\n",
    "}\n",
    "\n",
    "\n",
    "// compile keras model in tensorflow static graph\n",
    "\n",
    "// prepare dataset\n",
    "// normalize the input\n",
    "// x_train = x_train / 255.0f;\n",
    "var xTest = np.zeros((testImagePath.Count, img_h, img_w, n_channels), dtype: tf.float32);\n",
    "\n",
    "LoadImage(testImagePath.ToArray(), xTest, \"Testing\");\n",
    "\n",
    "var yTest=ts.Predict(xTest,1);\n",
    "\n",
    "Console.WriteLine();\n",
    "Console.WriteLine();\n",
    "\n",
    "Console.WriteLine(yTest[0]);\n",
    "Console.WriteLine();\n",
    "Console.WriteLine();\n",
    "\n",
    "Console.WriteLine(yTest);\n",
    "var yNDarray = yTest.numpy();\n",
    "Console.WriteLine($\"{yNDarray[0]}\");\n",
    "Console.WriteLine();\n",
    "\n"
   ]
  },
  {
   "cell_type": "markdown",
   "id": "f49b7b6c",
   "metadata": {},
   "source": []
  },
  {
   "cell_type": "code",
   "execution_count": null,
   "id": "6c3619ff",
   "metadata": {
    "vscode": {
     "languageId": "polyglot-notebook"
    }
   },
   "outputs": [],
   "source": [
    "\n",
    "// Create Confusion Matrix\n",
    "\n",
    "List<List<int>> matrix = new();\n",
    "for (int ind = 0; ind < classCount; ind++)\n",
    "{\n",
    "    matrix.add(Enumerable.Repeat(0,classCount).ToList());\n",
    "}\n",
    "Console.WriteLine();\n",
    "\n",
    "for (i = 0 ;i< textXLabels.Count; i++)\n",
    "{\n",
    "    try\n",
    "    {\n",
    "        int j = yTest.numpy()[i];\n",
    "        matrix[textXLabels[i]][j] += 1;\n",
    "    }\n",
    "    catch (Exception ex)\n",
    "    {\n",
    "        Console.WriteLine();\n",
    "    }\n",
    "}\n",
    "Console.WriteLine();\n",
    "\n",
    "\n",
    "var m = JsonConvert.SerializeObject(matrix);\n",
    "File.WriteAllText(\"Metrix.json\", m);\n",
    "\n",
    "\n",
    "foreach (var row in matrix)\n",
    "{\n",
    "    foreach (var col in row)\n",
    "    {\n",
    "        Console.Write($\"{col} \");\n",
    "    }\n",
    "    Console.WriteLine();\n",
    "}\n",
    "Console.WriteLine();\n",
    "Console.WriteLine();"
   ]
  }
 ],
 "metadata": {
  "kernelspec": {
   "display_name": ".NET (C#)",
   "language": "C#",
   "name": ".net-csharp"
  },
  "language_info": {
   "codemirror_mode": {
    "name": "ipython",
    "version": 3
   },
   "file_extension": ".py",
   "mimetype": "text/x-python",
   "name": "python",
   "nbconvert_exporter": "python",
   "pygments_lexer": "ipython3",
   "version": "3.12.4"
  },
  "polyglot_notebook": {
   "kernelInfo": {
    "defaultKernelName": "csharp",
    "items": [
     {
      "aliases": [],
      "name": "csharp"
     }
    ]
   }
  }
 },
 "nbformat": 4,
 "nbformat_minor": 5
}
